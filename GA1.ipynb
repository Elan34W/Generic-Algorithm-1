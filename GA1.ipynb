{
 "cells": [
  {
   "cell_type": "code",
   "execution_count": 13,
   "metadata": {},
   "outputs": [],
   "source": [
    "import random"
   ]
  },
  {
   "cell_type": "code",
   "execution_count": 15,
   "metadata": {},
   "outputs": [],
   "source": [
    "# Fungsi Objektif\n",
    "def fungsi_objektif(kromosom):\n",
    "    a, b, c, d = kromosom\n",
    "    return abs((a + 2*b + 3*c + 4*d) - 30)"
   ]
  },
  {
   "cell_type": "code",
   "execution_count": 16,
   "metadata": {},
   "outputs": [],
   "source": [
    "# Evaluasi fitness populasi\n",
    "def evaluasi_populasi(populasi):\n",
    "    return [fungsi_objektif(ind) for ind in populasi]"
   ]
  },
  {
   "cell_type": "code",
   "execution_count": 17,
   "metadata": {},
   "outputs": [],
   "source": [
    "# Generasi Populasi\n",
    "def generasi_populasi(ukuran_populasi, panjang_gen):\n",
    "    return [[random.randint(0, 30) for _ in range(panjang_gen)] for _ in range(ukuran_populasi)]"
   ]
  },
  {
   "cell_type": "code",
   "execution_count": 18,
   "metadata": {},
   "outputs": [],
   "source": [
    "# Seleksi parent dengan metode turnamen\n",
    "def pilih_parent(populasi, fitness, k=3):\n",
    "    terpilih = []\n",
    "    for _ in range(2):\n",
    "        turnamen = random.choices(list(zip(populasi, fitness)), k=k)\n",
    "        terpilih.append(min(turnamen, key=lambda x: x[1])[0])\n",
    "    return terpilih"
   ]
  },
  {
   "cell_type": "code",
   "execution_count": 19,
   "metadata": {},
   "outputs": [
    {
     "name": "stdout",
     "output_type": "stream",
     "text": [
      "Selected parents: [[11, 24, 2, 28], [18, 15, 14, 6]]\n"
     ]
    }
   ],
   "source": [
    "# Generate a sample population\n",
    "sample_population = generasi_populasi(ukuran_populasi, panjang_gen)\n",
    "\n",
    "# Calculate fitness for the sample population\n",
    "sample_fitnesses = evaluasi_populasi(sample_population)\n",
    "\n",
    "# Call pilih_parent\n",
    "selected_parents = pilih_parent(sample_population, sample_fitnesses)\n",
    "print(f\"Selected parents: {selected_parents}\")"
   ]
  },
  {
   "cell_type": "code",
   "execution_count": 48,
   "metadata": {},
   "outputs": [],
   "source": [
    "# Selection: roulette wheel\n",
    "def roulette_wheel_selection(populasi, fitness):\n",
    "    total_fitness = sum(fitness)\n",
    "    selection_probs = [f/total_fitness for f in fitness]\n",
    "    cumulative_probs = [sum(selection_probs[:i+1]) for i in range(len(selection_probs))]\n",
    "    rand_val = random.random()\n",
    "    \n",
    "    for i, cum_prob in enumerate(cumulative_probs):\n",
    "        if rand_val <= cum_prob:\n",
    "            return populasi[i]\n"
   ]
  },
  {
   "cell_type": "code",
   "execution_count": 20,
   "metadata": {},
   "outputs": [],
   "source": [
    "# Crossover\n",
    "def crossover(parent1, parent2, crossover_rate):\n",
    "    if random.random() < crossover_rate:\n",
    "        point = random.randint(1, len(parent1)-1)\n",
    "        return parent1[:point] + parent2[point:], parent2[:point] + parent1[point:]\n",
    "    else:\n",
    "        return parent1, parent2"
   ]
  },
  {
   "cell_type": "code",
   "execution_count": 21,
   "metadata": {},
   "outputs": [],
   "source": [
    "# Random mutasi\n",
    "def mutation(kromosom, mutation_rate):\n",
    "    if random.random() < mutation_rate:\n",
    "        index = random.randint(0, len(kromosom)-1)\n",
    "        kromosom[index] = random.randint(0, 30)\n",
    "    return kromosom"
   ]
  },
  {
   "cell_type": "code",
   "execution_count": 56,
   "metadata": {},
   "outputs": [],
   "source": [
    "# Genetic Algorithm\n",
    "def genetic_algorithm(ukuran_populasi, panjang_gen, crossover_rate, mutation_rate, jumlah_generasi):\n",
    "    population = generasi_populasi(ukuran_populasi, panjang_gen)\n",
    "    \n",
    "    for generation in range(jumlah_generasi):\n",
    "        # Calculate fitness (lower value of objective function is better)\n",
    "        fitnesses = [1 / (1 + fungsi_objektif(kromosom)) for kromosom in population]\n",
    "        \n",
    "        # New population generation\n",
    "        new_population = []\n",
    "        while len(new_population) < ukuran_populasi:\n",
    "            parent1, parent2 = pilih_parent(population, fitnesses)\n",
    "            \n",
    "            offspring1, offspring2 = crossover(parent1, parent2, crossover_rate)\n",
    "            offspring1 = mutation(offspring1, mutation_rate)\n",
    "            offspring2 = mutation(offspring2, mutation_rate)\n",
    "            \n",
    "            new_population.append(offspring1)\n",
    "            new_population.append(offspring2)\n",
    "        \n",
    "        population = new_population[:ukuran_populasi]  # Keep population size constant\n",
    "        \n",
    "        # Find the best chromosome of this generation\n",
    "        best_chromosome = min(population, key=fungsi_objektif)\n",
    "        best_fitness = 1 / (1 + fungsi_objektif(best_chromosome))\n",
    "        \n",
    "        # Print tuning parameters, best solution and fitness\n",
    "        print(f\"Generasi {generation+1}: Kromosom Terbaik: {best_chromosome}, Fitness: {best_fitness}, f(x) = {fungsi_objektif(best_chromosome)}\")\n",
    "        \n",
    "        if fungsi_objektif(best_chromosome) == 0:\n",
    "            break\n",
    "\n",
    "    # Print final results\n",
    "    print(\"\\nTuning Parameters:\")\n",
    "    print(f\"ukuran_populasi: {ukuran_populasi}\")\n",
    "    print(f\"Rate Crossover: {crossover_rate}\")\n",
    "    print(f\"Rate Mutasi: {mutation_rate}\")\n",
    "    print(f\"Jumlah Generasi: {jumlah_generasi}\")\n",
    "    \n",
    "    print(f\"\\nBest solution: {best_chromosome}\")\n",
    "    print(f\"Fitness terbaik kromosom: {best_fitness}\")\n",
    "    \n",
    "    return best_chromosome"
   ]
  },
  {
   "cell_type": "code",
   "execution_count": 57,
   "metadata": {},
   "outputs": [
    {
     "name": "stdout",
     "output_type": "stream",
     "text": [
      "Generasi 1: Kromosom Terbaik: [19, 26, 6, 21], Fitness: 0.006944444444444444, f(x) = 143\n",
      "Generasi 2: Kromosom Terbaik: [19, 26, 6, 27], Fitness: 0.005952380952380952, f(x) = 167\n",
      "Generasi 3: Kromosom Terbaik: [14, 22, 19, 27], Fitness: 0.005154639175257732, f(x) = 193\n",
      "Generasi 4: Kromosom Terbaik: [14, 22, 19, 14], Fitness: 0.007042253521126761, f(x) = 141\n",
      "Generasi 5: Kromosom Terbaik: [14, 22, 19, 30], Fitness: 0.0048543689320388345, f(x) = 205\n",
      "Generasi 6: Kromosom Terbaik: [14, 22, 19, 10], Fitness: 0.007936507936507936, f(x) = 125\n",
      "Generasi 7: Kromosom Terbaik: [14, 22, 19, 30], Fitness: 0.0048543689320388345, f(x) = 205\n",
      "Generasi 8: Kromosom Terbaik: [14, 22, 19, 30], Fitness: 0.0048543689320388345, f(x) = 205\n",
      "Generasi 9: Kromosom Terbaik: [14, 22, 19, 30], Fitness: 0.0048543689320388345, f(x) = 205\n",
      "Generasi 10: Kromosom Terbaik: [14, 22, 19, 30], Fitness: 0.0048543689320388345, f(x) = 205\n",
      "Generasi 11: Kromosom Terbaik: [19, 24, 19, 22], Fitness: 0.00546448087431694, f(x) = 182\n",
      "Generasi 12: Kromosom Terbaik: [19, 22, 19, 4], Fitness: 0.009345794392523364, f(x) = 106\n",
      "Generasi 13: Kromosom Terbaik: [8, 24, 19, 30], Fitness: 0.004901960784313725, f(x) = 203\n",
      "Generasi 14: Kromosom Terbaik: [19, 13, 19, 30], Fitness: 0.0051813471502590676, f(x) = 192\n",
      "Generasi 15: Kromosom Terbaik: [19, 7, 19, 30], Fitness: 0.0055248618784530384, f(x) = 180\n",
      "Generasi 16: Kromosom Terbaik: [19, 24, 19, 30], Fitness: 0.004651162790697674, f(x) = 214\n",
      "Generasi 17: Kromosom Terbaik: [19, 24, 19, 30], Fitness: 0.004651162790697674, f(x) = 214\n",
      "Generasi 18: Kromosom Terbaik: [19, 24, 19, 30], Fitness: 0.004651162790697674, f(x) = 214\n",
      "Generasi 19: Kromosom Terbaik: [19, 24, 19, 30], Fitness: 0.004651162790697674, f(x) = 214\n",
      "Generasi 20: Kromosom Terbaik: [19, 24, 19, 30], Fitness: 0.004651162790697674, f(x) = 214\n",
      "Generasi 21: Kromosom Terbaik: [19, 24, 19, 23], Fitness: 0.0053475935828877, f(x) = 186\n",
      "Generasi 22: Kromosom Terbaik: [13, 24, 19, 30], Fitness: 0.004784688995215311, f(x) = 208\n",
      "Generasi 23: Kromosom Terbaik: [23, 24, 19, 30], Fitness: 0.0045662100456621, f(x) = 218\n",
      "Generasi 24: Kromosom Terbaik: [19, 24, 30, 19], Fitness: 0.004901960784313725, f(x) = 203\n",
      "Generasi 25: Kromosom Terbaik: [19, 24, 28, 30], Fitness: 0.004132231404958678, f(x) = 241\n",
      "Generasi 26: Kromosom Terbaik: [16, 24, 30, 30], Fitness: 0.004081632653061225, f(x) = 244\n",
      "Generasi 27: Kromosom Terbaik: [16, 24, 30, 21], Fitness: 0.004784688995215311, f(x) = 208\n",
      "Generasi 28: Kromosom Terbaik: [16, 24, 30, 30], Fitness: 0.004081632653061225, f(x) = 244\n",
      "Generasi 29: Kromosom Terbaik: [15, 24, 30, 30], Fitness: 0.004098360655737705, f(x) = 243\n",
      "Generasi 30: Kromosom Terbaik: [14, 24, 30, 30], Fitness: 0.00411522633744856, f(x) = 242\n",
      "Generasi 31: Kromosom Terbaik: [16, 24, 30, 30], Fitness: 0.004081632653061225, f(x) = 244\n",
      "Generasi 32: Kromosom Terbaik: [29, 5, 30, 30], Fitness: 0.004545454545454545, f(x) = 219\n",
      "Generasi 33: Kromosom Terbaik: [29, 24, 30, 10], Fitness: 0.0056179775280898875, f(x) = 177\n",
      "Generasi 34: Kromosom Terbaik: [29, 10, 30, 30], Fitness: 0.004347826086956522, f(x) = 229\n",
      "Generasi 35: Kromosom Terbaik: [29, 24, 5, 30], Fitness: 0.00546448087431694, f(x) = 182\n",
      "Generasi 36: Kromosom Terbaik: [29, 24, 5, 30], Fitness: 0.00546448087431694, f(x) = 182\n",
      "Generasi 37: Kromosom Terbaik: [29, 24, 10, 30], Fitness: 0.005050505050505051, f(x) = 197\n",
      "Generasi 38: Kromosom Terbaik: [29, 24, 10, 30], Fitness: 0.005050505050505051, f(x) = 197\n",
      "Generasi 39: Kromosom Terbaik: [29, 24, 30, 3], Fitness: 0.006666666666666667, f(x) = 149\n",
      "Generasi 40: Kromosom Terbaik: [29, 24, 12, 3], Fitness: 0.010416666666666666, f(x) = 95\n",
      "Generasi 41: Kromosom Terbaik: [29, 7, 13, 30], Fitness: 0.005780346820809248, f(x) = 172\n",
      "Generasi 42: Kromosom Terbaik: [29, 24, 15, 14], Fitness: 0.006711409395973154, f(x) = 148\n",
      "Generasi 43: Kromosom Terbaik: [29, 7, 30, 14], Fitness: 0.00625, f(x) = 159\n",
      "Generasi 44: Kromosom Terbaik: [29, 24, 13, 5], Fitness: 0.009345794392523364, f(x) = 106\n",
      "Generasi 45: Kromosom Terbaik: [29, 24, 13, 14], Fitness: 0.006993006993006993, f(x) = 142\n",
      "Generasi 46: Kromosom Terbaik: [20, 24, 30, 14], Fitness: 0.005405405405405406, f(x) = 184\n",
      "Generasi 47: Kromosom Terbaik: [6, 24, 30, 30], Fitness: 0.00425531914893617, f(x) = 234\n",
      "Generasi 48: Kromosom Terbaik: [6, 24, 30, 30], Fitness: 0.00425531914893617, f(x) = 234\n",
      "Generasi 49: Kromosom Terbaik: [20, 6, 30, 30], Fitness: 0.004694835680751174, f(x) = 212\n",
      "Generasi 50: Kromosom Terbaik: [20, 1, 30, 30], Fitness: 0.0049261083743842365, f(x) = 202\n",
      "\n",
      "Tuning Parameters:\n",
      "ukuran_populasi: 6\n",
      "Rate Crossover: 0.5\n",
      "Rate Mutasi: 0.2\n",
      "Jumlah Generasi: 50\n",
      "\n",
      "Best solution: [20, 1, 30, 30]\n",
      "Fitness terbaik kromosom: 0.0049261083743842365\n"
     ]
    }
   ],
   "source": [
    "# Parameter Yang Digunakan Untuk GA\n",
    "ukuran_populasi = 6 \n",
    "panjang_gen = 4\n",
    "crossover_rate = 0.5  \n",
    "mutation_rate = 0.2       \n",
    "jumlah_generasi = 50\n",
    "\n",
    "#  Menjalankan GA\n",
    "best_solution = genetic_algorithm(ukuran_populasi, panjang_gen, crossover_rate, mutation_rate, jumlah_generasi)"
   ]
  }
 ],
 "metadata": {
  "kernelspec": {
   "display_name": "pcd",
   "language": "python",
   "name": "python3"
  },
  "language_info": {
   "codemirror_mode": {
    "name": "ipython",
    "version": 3
   },
   "file_extension": ".py",
   "mimetype": "text/x-python",
   "name": "python",
   "nbconvert_exporter": "python",
   "pygments_lexer": "ipython3",
   "version": "3.11.1"
  }
 },
 "nbformat": 4,
 "nbformat_minor": 2
}
