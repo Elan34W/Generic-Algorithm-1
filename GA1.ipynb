{
 "cells": [
  {
   "cell_type": "code",
   "execution_count": 1,
   "metadata": {},
   "outputs": [],
   "source": [
    "import random"
   ]
  },
  {
   "cell_type": "code",
   "execution_count": 2,
   "metadata": {},
   "outputs": [],
   "source": [
    "# Fungsi Objektif\n",
    "def fungsi_objektif(kromosom):\n",
    "    a, b, c, d = kromosom\n",
    "    return abs((a + 2*b + 3*c + 4*d) - 30)"
   ]
  },
  {
   "cell_type": "code",
   "execution_count": 3,
   "metadata": {},
   "outputs": [],
   "source": [
    "# Evaluasi fitness populasi\n",
    "def evaluasi_populasi(populasi):\n",
    "    return [fungsi_objektif(ind) for ind in populasi]"
   ]
  },
  {
   "cell_type": "code",
   "execution_count": 4,
   "metadata": {},
   "outputs": [],
   "source": [
    "# Generasi Populasi\n",
    "panjang_gen = 4\n",
    "def generasi_populasi(ukuran_populasi, panjang_gen):\n",
    "    return [[random.randint(0, 30) for _ in range(panjang_gen)] for _ in range(ukuran_populasi)]"
   ]
  },
  {
   "cell_type": "code",
   "execution_count": 5,
   "metadata": {},
   "outputs": [],
   "source": [
    "# Seleksi parent dengan metode turnamen\n",
    "def pilih_parent(populasi, fitness, k=3):\n",
    "    terpilih = []\n",
    "    for _ in range(2):\n",
    "        turnamen = random.choices(list(zip(populasi, fitness)), k=k)\n",
    "        terpilih.append(min(turnamen, key=lambda x: x[1])[0])\n",
    "    return terpilih"
   ]
  },
  {
   "cell_type": "code",
   "execution_count": 6,
   "metadata": {},
   "outputs": [],
   "source": [
    "# Selection: roulette wheel\n",
    "def roulette_wheel_selection(populasi, fitness):\n",
    "    total_fitness = sum(fitness)\n",
    "    selection_probs = [f/total_fitness for f in fitness]\n",
    "    cumulative_probs = [sum(selection_probs[:i+1]) for i in range(len(selection_probs))]\n",
    "    rand_val = random.random()\n",
    "    \n",
    "    for i, cum_prob in enumerate(cumulative_probs):\n",
    "        if rand_val <= cum_prob:\n",
    "            return populasi[i]\n"
   ]
  },
  {
   "cell_type": "code",
   "execution_count": 7,
   "metadata": {},
   "outputs": [],
   "source": [
    "# Crossover\n",
    "def crossover(parent1, parent2, crossover_rate):\n",
    "    if random.random() < crossover_rate:\n",
    "        point = random.randint(1, len(parent1)-1)\n",
    "        return parent1[:point] + parent2[point:], parent2[:point] + parent1[point:]\n",
    "    else:\n",
    "        return parent1, parent2"
   ]
  },
  {
   "cell_type": "code",
   "execution_count": 8,
   "metadata": {},
   "outputs": [],
   "source": [
    "# Random mutasi\n",
    "def mutation(kromosom, mutation_rate):\n",
    "    if random.random() < mutation_rate:\n",
    "        index = random.randint(0, len(kromosom)-1)\n",
    "        kromosom[index] = random.randint(0, 30)\n",
    "    return kromosom"
   ]
  },
  {
   "cell_type": "code",
   "execution_count": 9,
   "metadata": {},
   "outputs": [],
   "source": [
    "# Genetic Algorithm\n",
    "def genetic_algorithm(ukuran_populasi, panjang_gen, crossover_rate, mutation_rate, jumlah_generasi):\n",
    "    population = generasi_populasi(ukuran_populasi, panjang_gen)\n",
    "    \n",
    "    for generation in range(jumlah_generasi):\n",
    "        # Calculate fitness (lower value of objective function is better)\n",
    "        fitnesses = [1 / (1 + fungsi_objektif(kromosom)) for kromosom in population]\n",
    "        \n",
    "        # New population generation\n",
    "        new_population = []\n",
    "        while len(new_population) < ukuran_populasi:\n",
    "            parent1, parent2 = pilih_parent(population, fitnesses)\n",
    "            \n",
    "            offspring1, offspring2 = crossover(parent1, parent2, crossover_rate)\n",
    "            offspring1 = mutation(offspring1, mutation_rate)\n",
    "            offspring2 = mutation(offspring2, mutation_rate)\n",
    "            \n",
    "            new_population.append(offspring1)\n",
    "            new_population.append(offspring2)\n",
    "        \n",
    "        population = new_population[:ukuran_populasi]  # Keep population size constant\n",
    "        \n",
    "        # Find the best chromosome of this generation\n",
    "        best_chromosome = min(population, key=fungsi_objektif)\n",
    "        best_fitness = 1 / (1 + fungsi_objektif(best_chromosome))\n",
    "        \n",
    "        # Print tuning parameters, best solution and fitness\n",
    "        print(f\"Generasi {generation+1}: Kromosom Terbaik: {best_chromosome}, Fitness: {best_fitness}, f(x) = {fungsi_objektif(best_chromosome)}\")\n",
    "        \n",
    "        if fungsi_objektif(best_chromosome) == 0:\n",
    "            break\n",
    "\n",
    "    # Print final results\n",
    "    print(\"\\nTuning Parameters:\")\n",
    "    print(f\"ukuran_populasi: {ukuran_populasi}\")\n",
    "    print(f\"Rate Crossover: {crossover_rate}\")\n",
    "    print(f\"Rate Mutasi: {mutation_rate}\")\n",
    "    print(f\"Jumlah Generasi: {jumlah_generasi}\")\n",
    "    \n",
    "    print(f\"\\nBest solution: {best_chromosome}\")\n",
    "    print(f\"Fitness terbaik kromosom: {best_fitness}\")\n",
    "    \n",
    "    return best_chromosome"
   ]
  },
  {
   "cell_type": "code",
   "execution_count": 10,
   "metadata": {},
   "outputs": [
    {
     "name": "stdout",
     "output_type": "stream",
     "text": [
      "Generasi 1: Kromosom Terbaik: [25, 5, 4, 21], Fitness: 0.00980392156862745, f(x) = 101\n",
      "Generasi 2: Kromosom Terbaik: [29, 8, 4, 21], Fitness: 0.008928571428571428, f(x) = 111\n",
      "Generasi 3: Kromosom Terbaik: [2, 28, 24, 21], Fitness: 0.005405405405405406, f(x) = 184\n",
      "Generasi 4: Kromosom Terbaik: [2, 6, 15, 21], Fitness: 0.008771929824561403, f(x) = 113\n",
      "Generasi 5: Kromosom Terbaik: [2, 6, 15, 25], Fitness: 0.007692307692307693, f(x) = 129\n",
      "Generasi 6: Kromosom Terbaik: [10, 15, 15, 21], Fitness: 0.007142857142857143, f(x) = 139\n",
      "Generasi 7: Kromosom Terbaik: [10, 7, 15, 24], Fitness: 0.007352941176470588, f(x) = 135\n",
      "Generasi 8: Kromosom Terbaik: [10, 15, 15, 21], Fitness: 0.007142857142857143, f(x) = 139\n",
      "Generasi 9: Kromosom Terbaik: [10, 28, 13, 12], Fitness: 0.008064516129032258, f(x) = 123\n",
      "Generasi 10: Kromosom Terbaik: [10, 14, 2, 24], Fitness: 0.009009009009009009, f(x) = 110\n",
      "Generasi 11: Kromosom Terbaik: [3, 28, 13, 12], Fitness: 0.008547008547008548, f(x) = 116\n",
      "Generasi 12: Kromosom Terbaik: [29, 23, 2, 24], Fitness: 0.006756756756756757, f(x) = 147\n",
      "Generasi 13: Kromosom Terbaik: [29, 23, 30, 24], Fitness: 0.004310344827586207, f(x) = 231\n",
      "Generasi 14: Kromosom Terbaik: [29, 23, 30, 7], Fitness: 0.006097560975609756, f(x) = 163\n",
      "Generasi 15: Kromosom Terbaik: [29, 23, 30, 24], Fitness: 0.004310344827586207, f(x) = 231\n",
      "Generasi 16: Kromosom Terbaik: [29, 23, 4, 24], Fitness: 0.006493506493506494, f(x) = 153\n",
      "Generasi 17: Kromosom Terbaik: [29, 23, 30, 24], Fitness: 0.004310344827586207, f(x) = 231\n",
      "Generasi 18: Kromosom Terbaik: [29, 23, 30, 24], Fitness: 0.004310344827586207, f(x) = 231\n",
      "Generasi 19: Kromosom Terbaik: [29, 23, 20, 24], Fitness: 0.0049504950495049506, f(x) = 201\n",
      "Generasi 20: Kromosom Terbaik: [6, 23, 30, 24], Fitness: 0.004784688995215311, f(x) = 208\n",
      "Generasi 21: Kromosom Terbaik: [29, 23, 30, 24], Fitness: 0.004310344827586207, f(x) = 231\n",
      "Generasi 22: Kromosom Terbaik: [29, 23, 17, 24], Fitness: 0.0051813471502590676, f(x) = 192\n",
      "Generasi 23: Kromosom Terbaik: [29, 23, 2, 24], Fitness: 0.006756756756756757, f(x) = 147\n",
      "Generasi 24: Kromosom Terbaik: [29, 23, 30, 7], Fitness: 0.006097560975609756, f(x) = 163\n",
      "Generasi 25: Kromosom Terbaik: [29, 23, 2, 24], Fitness: 0.006756756756756757, f(x) = 147\n",
      "Generasi 26: Kromosom Terbaik: [29, 23, 30, 2], Fitness: 0.006944444444444444, f(x) = 143\n",
      "Generasi 27: Kromosom Terbaik: [29, 26, 30, 7], Fitness: 0.0058823529411764705, f(x) = 169\n",
      "Generasi 28: Kromosom Terbaik: [29, 2, 30, 24], Fitness: 0.005263157894736842, f(x) = 189\n",
      "Generasi 29: Kromosom Terbaik: [20, 23, 30, 24], Fitness: 0.004484304932735426, f(x) = 222\n",
      "Generasi 30: Kromosom Terbaik: [29, 6, 30, 24], Fitness: 0.005050505050505051, f(x) = 197\n",
      "Generasi 31: Kromosom Terbaik: [29, 23, 30, 1], Fitness: 0.007142857142857143, f(x) = 139\n",
      "Generasi 32: Kromosom Terbaik: [29, 23, 30, 20], Fitness: 0.004629629629629629, f(x) = 215\n",
      "Generasi 33: Kromosom Terbaik: [29, 23, 30, 2], Fitness: 0.006944444444444444, f(x) = 143\n",
      "Generasi 34: Kromosom Terbaik: [19, 23, 30, 24], Fitness: 0.0045045045045045045, f(x) = 221\n",
      "Generasi 35: Kromosom Terbaik: [16, 23, 30, 24], Fitness: 0.0045662100456621, f(x) = 218\n",
      "Generasi 36: Kromosom Terbaik: [29, 10, 30, 24], Fitness: 0.0048543689320388345, f(x) = 205\n",
      "Generasi 37: Kromosom Terbaik: [2, 23, 30, 24], Fitness: 0.004878048780487805, f(x) = 204\n",
      "Generasi 38: Kromosom Terbaik: [29, 23, 9, 24], Fitness: 0.005917159763313609, f(x) = 168\n",
      "Generasi 39: Kromosom Terbaik: [29, 10, 18, 24], Fitness: 0.0058823529411764705, f(x) = 169\n",
      "Generasi 40: Kromosom Terbaik: [13, 3, 30, 24], Fitness: 0.005681818181818182, f(x) = 175\n",
      "Generasi 41: Kromosom Terbaik: [29, 23, 0, 24], Fitness: 0.007042253521126761, f(x) = 141\n",
      "Generasi 42: Kromosom Terbaik: [6, 23, 30, 24], Fitness: 0.004784688995215311, f(x) = 208\n",
      "Generasi 43: Kromosom Terbaik: [29, 23, 3, 24], Fitness: 0.006622516556291391, f(x) = 150\n",
      "Generasi 44: Kromosom Terbaik: [29, 23, 18, 24], Fitness: 0.00510204081632653, f(x) = 195\n",
      "Generasi 45: Kromosom Terbaik: [29, 16, 30, 24], Fitness: 0.0045871559633027525, f(x) = 217\n",
      "Generasi 46: Kromosom Terbaik: [29, 23, 30, 6], Fitness: 0.00625, f(x) = 159\n",
      "Generasi 47: Kromosom Terbaik: [29, 23, 30, 24], Fitness: 0.004310344827586207, f(x) = 231\n",
      "Generasi 48: Kromosom Terbaik: [29, 23, 18, 24], Fitness: 0.00510204081632653, f(x) = 195\n",
      "Generasi 49: Kromosom Terbaik: [29, 23, 15, 24], Fitness: 0.0053475935828877, f(x) = 186\n",
      "Generasi 50: Kromosom Terbaik: [29, 16, 30, 24], Fitness: 0.0045871559633027525, f(x) = 217\n",
      "\n",
      "Tuning Parameters:\n",
      "ukuran_populasi: 6\n",
      "Rate Crossover: 0.5\n",
      "Rate Mutasi: 0.2\n",
      "Jumlah Generasi: 50\n",
      "\n",
      "Best solution: [29, 16, 30, 24]\n",
      "Fitness terbaik kromosom: 0.0045871559633027525\n"
     ]
    }
   ],
   "source": [
    "# Parameter Yang Digunakan Untuk GA\n",
    "ukuran_populasi = 6 \n",
    "crossover_rate = 0.5  \n",
    "mutation_rate = 0.2       \n",
    "jumlah_generasi = 50\n",
    "\n",
    "#  Menjalankan GA\n",
    "best_solution = genetic_algorithm(ukuran_populasi, panjang_gen, crossover_rate, mutation_rate, jumlah_generasi)"
   ]
  }
 ],
 "metadata": {
  "kernelspec": {
   "display_name": "pcd",
   "language": "python",
   "name": "python3"
  },
  "language_info": {
   "codemirror_mode": {
    "name": "ipython",
    "version": 3
   },
   "file_extension": ".py",
   "mimetype": "text/x-python",
   "name": "python",
   "nbconvert_exporter": "python",
   "pygments_lexer": "ipython3",
   "version": "3.11.1"
  }
 },
 "nbformat": 4,
 "nbformat_minor": 2
}
