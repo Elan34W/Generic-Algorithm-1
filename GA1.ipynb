{
 "cells": [
  {
   "cell_type": "code",
   "execution_count": 58,
   "metadata": {},
   "outputs": [],
   "source": [
    "import random"
   ]
  },
  {
   "cell_type": "code",
   "execution_count": 59,
   "metadata": {},
   "outputs": [],
   "source": [
    "# Fungsi Objektif\n",
    "def fungsi_objektif(kromosom):\n",
    "    a, b, c, d = kromosom\n",
    "    return abs((a + 2*b + 3*c + 4*d) - 30)"
   ]
  },
  {
   "cell_type": "code",
   "execution_count": 60,
   "metadata": {},
   "outputs": [],
   "source": [
    "# Evaluasi fitness populasi\n",
    "def evaluasi_populasi(populasi):\n",
    "    return [fungsi_objektif(ind) for ind in populasi]"
   ]
  },
  {
   "cell_type": "code",
   "execution_count": 61,
   "metadata": {},
   "outputs": [],
   "source": [
    "# Generasi Populasi\n",
    "panjang_gen = 4\n",
    "def generasi_populasi(ukuran_populasi, panjang_gen):\n",
    "    return [[random.randint(0, 30) for _ in range(panjang_gen)] for _ in range(ukuran_populasi)]"
   ]
  },
  {
   "cell_type": "code",
   "execution_count": 62,
   "metadata": {},
   "outputs": [],
   "source": [
    "# Seleksi parent dengan metode turnamen\n",
    "def pilih_parent(populasi, fitness, k=3):\n",
    "    terpilih = []\n",
    "    for _ in range(2):\n",
    "        turnamen = random.choices(list(zip(populasi, fitness)), k=k)\n",
    "        terpilih.append(min(turnamen, key=lambda x: x[1])[0])\n",
    "    return terpilih"
   ]
  },
  {
   "cell_type": "code",
   "execution_count": 63,
   "metadata": {},
   "outputs": [
    {
     "name": "stdout",
     "output_type": "stream",
     "text": [
      "Selected parents: [[26, 26, 24, 3], [15, 2, 0, 20]]\n"
     ]
    }
   ],
   "source": [
    "# Generate a sample population\n",
    "sample_population = generasi_populasi(ukuran_populasi, panjang_gen)\n",
    "\n",
    "# Calculate fitness for the sample population\n",
    "sample_fitnesses = evaluasi_populasi(sample_population)\n",
    "\n",
    "# Call pilih_parent\n",
    "selected_parents = pilih_parent(sample_population, sample_fitnesses)\n",
    "print(f\"Selected parents: {selected_parents}\")"
   ]
  },
  {
   "cell_type": "code",
   "execution_count": 64,
   "metadata": {},
   "outputs": [],
   "source": [
    "# Selection: roulette wheel\n",
    "def roulette_wheel_selection(populasi, fitness):\n",
    "    total_fitness = sum(fitness)\n",
    "    selection_probs = [f/total_fitness for f in fitness]\n",
    "    cumulative_probs = [sum(selection_probs[:i+1]) for i in range(len(selection_probs))]\n",
    "    rand_val = random.random()\n",
    "    \n",
    "    for i, cum_prob in enumerate(cumulative_probs):\n",
    "        if rand_val <= cum_prob:\n",
    "            return populasi[i]\n"
   ]
  },
  {
   "cell_type": "code",
   "execution_count": 65,
   "metadata": {},
   "outputs": [],
   "source": [
    "# Crossover\n",
    "def crossover(parent1, parent2, crossover_rate):\n",
    "    if random.random() < crossover_rate:\n",
    "        point = random.randint(1, len(parent1)-1)\n",
    "        return parent1[:point] + parent2[point:], parent2[:point] + parent1[point:]\n",
    "    else:\n",
    "        return parent1, parent2"
   ]
  },
  {
   "cell_type": "code",
   "execution_count": 66,
   "metadata": {},
   "outputs": [],
   "source": [
    "# Random mutasi\n",
    "def mutation(kromosom, mutation_rate):\n",
    "    if random.random() < mutation_rate:\n",
    "        index = random.randint(0, len(kromosom)-1)\n",
    "        kromosom[index] = random.randint(0, 30)\n",
    "    return kromosom"
   ]
  },
  {
   "cell_type": "code",
   "execution_count": 67,
   "metadata": {},
   "outputs": [],
   "source": [
    "# Genetic Algorithm\n",
    "def genetic_algorithm(ukuran_populasi, panjang_gen, crossover_rate, mutation_rate, jumlah_generasi):\n",
    "    population = generasi_populasi(ukuran_populasi, panjang_gen)\n",
    "    \n",
    "    for generation in range(jumlah_generasi):\n",
    "        # Calculate fitness (lower value of objective function is better)\n",
    "        fitnesses = [1 / (1 + fungsi_objektif(kromosom)) for kromosom in population]\n",
    "        \n",
    "        # New population generation\n",
    "        new_population = []\n",
    "        while len(new_population) < ukuran_populasi:\n",
    "            parent1, parent2 = pilih_parent(population, fitnesses)\n",
    "            \n",
    "            offspring1, offspring2 = crossover(parent1, parent2, crossover_rate)\n",
    "            offspring1 = mutation(offspring1, mutation_rate)\n",
    "            offspring2 = mutation(offspring2, mutation_rate)\n",
    "            \n",
    "            new_population.append(offspring1)\n",
    "            new_population.append(offspring2)\n",
    "        \n",
    "        population = new_population[:ukuran_populasi]  # Keep population size constant\n",
    "        \n",
    "        # Find the best chromosome of this generation\n",
    "        best_chromosome = min(population, key=fungsi_objektif)\n",
    "        best_fitness = 1 / (1 + fungsi_objektif(best_chromosome))\n",
    "        \n",
    "        # Print tuning parameters, best solution and fitness\n",
    "        print(f\"Generasi {generation+1}: Kromosom Terbaik: {best_chromosome}, Fitness: {best_fitness}, f(x) = {fungsi_objektif(best_chromosome)}\")\n",
    "        \n",
    "        if fungsi_objektif(best_chromosome) == 0:\n",
    "            break\n",
    "\n",
    "    # Print final results\n",
    "    print(\"\\nTuning Parameters:\")\n",
    "    print(f\"ukuran_populasi: {ukuran_populasi}\")\n",
    "    print(f\"Rate Crossover: {crossover_rate}\")\n",
    "    print(f\"Rate Mutasi: {mutation_rate}\")\n",
    "    print(f\"Jumlah Generasi: {jumlah_generasi}\")\n",
    "    \n",
    "    print(f\"\\nBest solution: {best_chromosome}\")\n",
    "    print(f\"Fitness terbaik kromosom: {best_fitness}\")\n",
    "    \n",
    "    return best_chromosome"
   ]
  },
  {
   "cell_type": "code",
   "execution_count": 68,
   "metadata": {},
   "outputs": [
    {
     "name": "stdout",
     "output_type": "stream",
     "text": [
      "Generasi 1: Kromosom Terbaik: [24, 15, 6, 2], Fitness: 0.0196078431372549, f(x) = 50\n",
      "Generasi 2: Kromosom Terbaik: [10, 14, 7, 6], Fitness: 0.018518518518518517, f(x) = 53\n",
      "Generasi 3: Kromosom Terbaik: [11, 2, 2, 6], Fitness: 0.0625, f(x) = 15\n",
      "Generasi 4: Kromosom Terbaik: [11, 2, 14, 12], Fitness: 0.013157894736842105, f(x) = 75\n",
      "Generasi 5: Kromosom Terbaik: [11, 2, 17, 12], Fitness: 0.011764705882352941, f(x) = 84\n",
      "Generasi 6: Kromosom Terbaik: [11, 2, 13, 28], Fitness: 0.0072992700729927005, f(x) = 136\n",
      "Generasi 7: Kromosom Terbaik: [11, 2, 17, 28], Fitness: 0.006711409395973154, f(x) = 148\n",
      "Generasi 8: Kromosom Terbaik: [11, 2, 17, 28], Fitness: 0.006711409395973154, f(x) = 148\n",
      "Generasi 9: Kromosom Terbaik: [29, 2, 13, 5], Fitness: 0.015873015873015872, f(x) = 62\n",
      "Generasi 10: Kromosom Terbaik: [0, 2, 13, 28], Fitness: 0.007936507936507936, f(x) = 125\n",
      "Generasi 11: Kromosom Terbaik: [29, 2, 13, 28], Fitness: 0.0064516129032258064, f(x) = 154\n",
      "Generasi 12: Kromosom Terbaik: [29, 2, 13, 28], Fitness: 0.0064516129032258064, f(x) = 154\n",
      "Generasi 13: Kromosom Terbaik: [29, 2, 13, 28], Fitness: 0.0064516129032258064, f(x) = 154\n",
      "Generasi 14: Kromosom Terbaik: [29, 2, 4, 28], Fitness: 0.0078125, f(x) = 127\n",
      "Generasi 15: Kromosom Terbaik: [29, 2, 8, 29], Fitness: 0.006944444444444444, f(x) = 143\n",
      "Generasi 16: Kromosom Terbaik: [29, 2, 21, 28], Fitness: 0.00558659217877095, f(x) = 178\n",
      "Generasi 17: Kromosom Terbaik: [0, 2, 21, 28], Fitness: 0.006666666666666667, f(x) = 149\n",
      "Generasi 18: Kromosom Terbaik: [0, 2, 14, 28], Fitness: 0.007751937984496124, f(x) = 128\n",
      "Generasi 19: Kromosom Terbaik: [30, 2, 23, 28], Fitness: 0.005376344086021506, f(x) = 185\n",
      "Generasi 20: Kromosom Terbaik: [30, 8, 23, 28], Fitness: 0.005050505050505051, f(x) = 197\n",
      "Generasi 21: Kromosom Terbaik: [30, 8, 23, 28], Fitness: 0.005050505050505051, f(x) = 197\n",
      "Generasi 22: Kromosom Terbaik: [30, 8, 5, 28], Fitness: 0.006944444444444444, f(x) = 143\n",
      "Generasi 23: Kromosom Terbaik: [30, 8, 23, 27], Fitness: 0.005154639175257732, f(x) = 193\n",
      "Generasi 24: Kromosom Terbaik: [30, 8, 7, 28], Fitness: 0.006666666666666667, f(x) = 149\n",
      "Generasi 25: Kromosom Terbaik: [30, 8, 23, 28], Fitness: 0.005050505050505051, f(x) = 197\n",
      "Generasi 26: Kromosom Terbaik: [30, 8, 23, 28], Fitness: 0.005050505050505051, f(x) = 197\n",
      "Generasi 27: Kromosom Terbaik: [30, 8, 23, 28], Fitness: 0.005050505050505051, f(x) = 197\n",
      "Generasi 28: Kromosom Terbaik: [30, 28, 23, 0], Fitness: 0.007936507936507936, f(x) = 125\n",
      "Generasi 29: Kromosom Terbaik: [23, 28, 23, 0], Fitness: 0.008403361344537815, f(x) = 118\n",
      "Generasi 30: Kromosom Terbaik: [23, 28, 23, 28], Fitness: 0.004329004329004329, f(x) = 230\n",
      "Generasi 31: Kromosom Terbaik: [23, 28, 23, 28], Fitness: 0.004329004329004329, f(x) = 230\n",
      "Generasi 32: Kromosom Terbaik: [30, 28, 28, 28], Fitness: 0.003952569169960474, f(x) = 252\n",
      "Generasi 33: Kromosom Terbaik: [30, 28, 28, 5], Fitness: 0.006211180124223602, f(x) = 160\n",
      "Generasi 34: Kromosom Terbaik: [30, 13, 28, 28], Fitness: 0.004484304932735426, f(x) = 222\n",
      "Generasi 35: Kromosom Terbaik: [30, 28, 28, 21], Fitness: 0.0044444444444444444, f(x) = 224\n",
      "Generasi 36: Kromosom Terbaik: [30, 28, 18, 28], Fitness: 0.004484304932735426, f(x) = 222\n",
      "Generasi 37: Kromosom Terbaik: [30, 1, 28, 28], Fitness: 0.005025125628140704, f(x) = 198\n",
      "Generasi 38: Kromosom Terbaik: [30, 28, 28, 18], Fitness: 0.004694835680751174, f(x) = 212\n",
      "Generasi 39: Kromosom Terbaik: [30, 28, 28, 2], Fitness: 0.006711409395973154, f(x) = 148\n",
      "Generasi 40: Kromosom Terbaik: [30, 9, 28, 28], Fitness: 0.004651162790697674, f(x) = 214\n",
      "Generasi 41: Kromosom Terbaik: [30, 28, 28, 24], Fitness: 0.004219409282700422, f(x) = 236\n",
      "Generasi 42: Kromosom Terbaik: [30, 28, 14, 28], Fitness: 0.004739336492890996, f(x) = 210\n",
      "Generasi 43: Kromosom Terbaik: [30, 28, 28, 28], Fitness: 0.003952569169960474, f(x) = 252\n",
      "Generasi 44: Kromosom Terbaik: [30, 28, 28, 9], Fitness: 0.005649717514124294, f(x) = 176\n",
      "Generasi 45: Kromosom Terbaik: [30, 28, 5, 28], Fitness: 0.005434782608695652, f(x) = 183\n",
      "Generasi 46: Kromosom Terbaik: [30, 5, 28, 28], Fitness: 0.004830917874396135, f(x) = 206\n",
      "Generasi 47: Kromosom Terbaik: [30, 28, 2, 28], Fitness: 0.005714285714285714, f(x) = 174\n",
      "Generasi 48: Kromosom Terbaik: [30, 28, 28, 16], Fitness: 0.004878048780487805, f(x) = 204\n",
      "Generasi 49: Kromosom Terbaik: [30, 28, 28, 0], Fitness: 0.0070921985815602835, f(x) = 140\n",
      "Generasi 50: Kromosom Terbaik: [26, 6, 28, 0], Fitness: 0.010752688172043012, f(x) = 92\n",
      "\n",
      "Tuning Parameters:\n",
      "ukuran_populasi: 6\n",
      "Rate Crossover: 0.5\n",
      "Rate Mutasi: 0.2\n",
      "Jumlah Generasi: 50\n",
      "\n",
      "Best solution: [26, 6, 28, 0]\n",
      "Fitness terbaik kromosom: 0.010752688172043012\n"
     ]
    }
   ],
   "source": [
    "# Parameter Yang Digunakan Untuk GA\n",
    "ukuran_populasi = 6 \n",
    "crossover_rate = 0.5  \n",
    "mutation_rate = 0.2       \n",
    "jumlah_generasi = 50\n",
    "\n",
    "#  Menjalankan GA\n",
    "best_solution = genetic_algorithm(ukuran_populasi, panjang_gen, crossover_rate, mutation_rate, jumlah_generasi)"
   ]
  }
 ],
 "metadata": {
  "kernelspec": {
   "display_name": "pcd",
   "language": "python",
   "name": "python3"
  },
  "language_info": {
   "codemirror_mode": {
    "name": "ipython",
    "version": 3
   },
   "file_extension": ".py",
   "mimetype": "text/x-python",
   "name": "python",
   "nbconvert_exporter": "python",
   "pygments_lexer": "ipython3",
   "version": "3.11.1"
  }
 },
 "nbformat": 4,
 "nbformat_minor": 2
}
